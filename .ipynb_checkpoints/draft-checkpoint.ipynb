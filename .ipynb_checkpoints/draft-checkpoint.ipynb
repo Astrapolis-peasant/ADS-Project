{
 "cells": [
  {
   "cell_type": "code",
   "execution_count": 174,
   "metadata": {
    "collapsed": true
   },
   "outputs": [],
   "source": [
    "import pandas as pd"
   ]
  },
  {
   "cell_type": "code",
   "execution_count": 211,
   "metadata": {
    "collapsed": false
   },
   "outputs": [],
   "source": [
    "df = pd.read_csv('Average Income House Hold By Income.csv')"
   ]
  },
  {
   "cell_type": "code",
   "execution_count": 212,
   "metadata": {
    "collapsed": false
   },
   "outputs": [
    {
     "data": {
      "text/html": [
       "<div>\n",
       "<table border=\"1\" class=\"dataframe\">\n",
       "  <thead>\n",
       "    <tr style=\"text-align: right;\">\n",
       "      <th></th>\n",
       "      <th>zipcodes</th>\n",
       "      <th>location</th>\n",
       "      <th>city</th>\n",
       "      <th>population</th>\n",
       "      <th>avg_Income</th>\n",
       "      <th>national Rank</th>\n",
       "    </tr>\n",
       "  </thead>\n",
       "  <tbody>\n",
       "    <tr>\n",
       "      <th>0</th>\n",
       "      <td>15201</td>\n",
       "      <td>40.474607, -79.952113</td>\n",
       "      <td>Pittsburgh</td>\n",
       "      <td>14326</td>\n",
       "      <td>27031</td>\n",
       "      <td>#26,607</td>\n",
       "    </tr>\n",
       "    <tr>\n",
       "      <th>1</th>\n",
       "      <td>15202</td>\n",
       "      <td>40.506932, -80.069067</td>\n",
       "      <td>Pittsburgh</td>\n",
       "      <td>21022</td>\n",
       "      <td>34727</td>\n",
       "      <td>#17,787</td>\n",
       "    </tr>\n",
       "    <tr>\n",
       "      <th>2</th>\n",
       "      <td>15203</td>\n",
       "      <td>40.425326, -79.976226</td>\n",
       "      <td>Pittsburgh</td>\n",
       "      <td>9613</td>\n",
       "      <td>27595</td>\n",
       "      <td>#26,044</td>\n",
       "    </tr>\n",
       "    <tr>\n",
       "      <th>3</th>\n",
       "      <td>15204</td>\n",
       "      <td>40.456102, -80.063805</td>\n",
       "      <td>Pittsburgh</td>\n",
       "      <td>9502</td>\n",
       "      <td>32859</td>\n",
       "      <td>#19,885</td>\n",
       "    </tr>\n",
       "    <tr>\n",
       "      <th>4</th>\n",
       "      <td>15205</td>\n",
       "      <td>40.437901, -80.097688</td>\n",
       "      <td>Pittsburgh</td>\n",
       "      <td>22586</td>\n",
       "      <td>38507</td>\n",
       "      <td>#13,452</td>\n",
       "    </tr>\n",
       "  </tbody>\n",
       "</table>\n",
       "</div>"
      ],
      "text/plain": [
       "   zipcodes               location        city  population  avg_Income  \\\n",
       "0     15201  40.474607, -79.952113  Pittsburgh       14326       27031   \n",
       "1     15202  40.506932, -80.069067  Pittsburgh       21022       34727   \n",
       "2     15203  40.425326, -79.976226  Pittsburgh        9613       27595   \n",
       "3     15204  40.456102, -80.063805  Pittsburgh        9502       32859   \n",
       "4     15205  40.437901, -80.097688  Pittsburgh       22586       38507   \n",
       "\n",
       "  national Rank  \n",
       "0       #26,607  \n",
       "1       #17,787  \n",
       "2       #26,044  \n",
       "3       #19,885  \n",
       "4       #13,452  "
      ]
     },
     "execution_count": 212,
     "metadata": {},
     "output_type": "execute_result"
    }
   ],
   "source": [
    "df.head()"
   ]
  },
  {
   "cell_type": "code",
   "execution_count": 242,
   "metadata": {
    "collapsed": false
   },
   "outputs": [
    {
     "name": "stdout",
     "output_type": "stream",
     "text": [
      "    zipcodes  avg_Income\n",
      "0      15201       27031\n",
      "1      15202       34727\n",
      "2      15203       27595\n",
      "3      15204       32859\n",
      "4      15205       38507\n",
      "5      15206       28517\n",
      "6      15207       28156\n",
      "7      15208       24178\n",
      "8      15209       38292\n",
      "9      15210       27041\n",
      "10     15211       34067\n",
      "11     15212       26712\n",
      "12     15213       18473\n",
      "13     15214       30725\n",
      "14     15215       43750\n",
      "15     15216       39526\n",
      "16     15217       45173\n",
      "17     15218       35983\n",
      "18     15219       14399\n",
      "19     15220       44018\n",
      "20     15221       30668\n",
      "21     15222       18598\n",
      "22     15223       33724\n",
      "23     15224       22880\n",
      "24     15225       30625\n",
      "25     15226       37889\n",
      "26     15227       38439\n",
      "27     15228       58440\n",
      "28     15229       40562\n",
      "29     15232       32552\n",
      "30     15233       23841\n",
      "31     15234       40756\n",
      "32     15235       41367\n",
      "33     15236       46913\n",
      "34     15237       55016\n",
      "35     15238       67370\n",
      "36     15239       48415\n",
      "37     15241       85102\n",
      "38     15243       60717\n"
     ]
    }
   ],
   "source": [
    "income = df[['zipcodes','avg_Income']]\n",
    "print income"
   ]
  },
  {
   "cell_type": "code",
   "execution_count": 177,
   "metadata": {
    "collapsed": true
   },
   "outputs": [],
   "source": [
    "import json, numpy, scipy.stats, string, sys"
   ]
  },
  {
   "cell_type": "code",
   "execution_count": 179,
   "metadata": {
    "collapsed": false
   },
   "outputs": [],
   "source": [
    "def biz_parse():\n",
    "    ''' Parses yelp BUSINESS dataset - Extracting only restaurants. '''\n",
    "    print \"Parsing Business Data.  Getting business_id, review_count, name\"\n",
    "    jsonData = open(\"yelp_academic_dataset_business.json\")\n",
    "    bizData = {}\n",
    "    categoryList = list()\n",
    "    for line in jsonData:\n",
    "    \tdata = json.loads(line)\n",
    "    \tbusiness_id = data[\"business_id\"]\n",
    "    \treview_count = data[\"review_count\"]\n",
    "    \tname = data[\"name\"]\n",
    "    \tcategories = data[\"categories\"]\n",
    "        state = data[\"state\"]\n",
    "        opentime = data['hours']\n",
    "        \n",
    "        if len('hours')> 0:\n",
    "    \t    if \"Tuesday\" in opentime:\n",
    "                try: opentime1 = opentime[\"Tuesday\"]['open']\n",
    "                except KeyError: opentime1 = \"NA\"\n",
    "         \n",
    "        closetime = data['hours']\n",
    "        \n",
    "        if len('hours')> 0:\n",
    "    \t    if \"Tuesday\" in closetime:\n",
    "                try: closetime1 = opentime[\"Tuesday\"]['close']\n",
    "                except KeyError: opentime1 = \"NA\"\n",
    "                \n",
    "    \tcity = data[\"city\"]\n",
    "        \n",
    "        zipcodes = data['full_address'][-6:]\n",
    "    \tlatitude = data[\"latitude\"]\n",
    "    \tlongitude = data[\"longitude\"]\n",
    "        stars = data[\"stars\"]\n",
    "        attributes =  data[\"attributes\"]\n",
    "    \t\n",
    "    \tif len(categories)> 0:\n",
    "    \t    if \"Restaurants\" in categories:\n",
    "\t\ttry: priceRange = attributes[\"Price Range\"]\n",
    "                except KeyError: priceRange = \"NA\"\n",
    "                try: NoiseLevel = attributes[\"Noise Level\"]\n",
    "                except KeyError: NoiseLevel = \"NA\"\n",
    "                try: Delivery = attributes[\"Delivery\"]\n",
    "                except KeyError: Delivery = \"NA\"\n",
    "\t\tbizData[business_id] = [review_count, name, categories, opentime1, closetime1, state, city, zipcodes, latitude, longitude, stars, priceRange, NoiseLevel, Delivery]\n",
    "    \t        categoryList += categories\n",
    "    print len(bizData), \"businesses added\"\n",
    "    return bizData"
   ]
  },
  {
   "cell_type": "code",
   "execution_count": 180,
   "metadata": {
    "collapsed": false
   },
   "outputs": [
    {
     "name": "stdout",
     "output_type": "stream",
     "text": [
      "Parsing Business Data.  Getting business_id, review_count, name\n",
      "21892 businesses added\n"
     ]
    }
   ],
   "source": [
    "data=pd.DataFrame(biz_parse())"
   ]
  },
  {
   "cell_type": "code",
   "execution_count": 181,
   "metadata": {
    "collapsed": false
   },
   "outputs": [],
   "source": [
    "data1 = data.transpose()"
   ]
  },
  {
   "cell_type": "code",
   "execution_count": 186,
   "metadata": {
    "collapsed": false
   },
   "outputs": [],
   "source": [
    "#data1 "
   ]
  },
  {
   "cell_type": "code",
   "execution_count": 188,
   "metadata": {
    "collapsed": false
   },
   "outputs": [],
   "source": [
    "data1.columns = ['review_count', 'name', 'categories', 'opentime','closetime', 'state', 'city', 'zipcodes','latitude', 'longitude', 'stars','priceRange', 'noiselevel', 'delivery']\n",
    "#data1"
   ]
  },
  {
   "cell_type": "code",
   "execution_count": 184,
   "metadata": {
    "collapsed": false
   },
   "outputs": [],
   "source": [
    "datapit = data1[data1['city'] == 'Pittsburgh']"
   ]
  },
  {
   "cell_type": "code",
   "execution_count": 231,
   "metadata": {
    "collapsed": true
   },
   "outputs": [],
   "source": [
    "datacom = pd. pd.read_csv(combined)"
   ]
  },
  {
   "cell_type": "code",
   "execution_count": null,
   "metadata": {
    "collapsed": true
   },
   "outputs": [],
   "source": []
  }
 ],
 "metadata": {
  "kernelspec": {
   "display_name": "Python 2",
   "language": "python",
   "name": "python2"
  },
  "language_info": {
   "codemirror_mode": {
    "name": "ipython",
    "version": 2
   },
   "file_extension": ".py",
   "mimetype": "text/x-python",
   "name": "python",
   "nbconvert_exporter": "python",
   "pygments_lexer": "ipython2",
   "version": "2.7.10"
  }
 },
 "nbformat": 4,
 "nbformat_minor": 0
}
